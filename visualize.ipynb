{
 "cells": [
  {
   "cell_type": "code",
   "execution_count": 2,
   "metadata": {},
   "outputs": [],
   "source": [
    "import pandas as pd\n",
    "import wandb\n",
    "from pathlib import Path\n",
    "import numpy as np\n",
    "import seaborn as sns\n",
    "import matplotlib.pyplot as plt\n",
    "import matplotlib as mpl\n",
    "import datetime\n",
    "\n",
    "from matplotlib.pyplot import MultipleLocator\n",
    "api = wandb.Api(timeout=19)\n",
    "mpl.rcParams[\"axes.unicode_minus\"] = False"
   ]
  },
  {
   "cell_type": "code",
   "execution_count": 4,
   "metadata": {},
   "outputs": [
    {
     "name": "stdout",
     "output_type": "stream",
     "text": [
      "\"hlsong/Drones_flock_DYN/\"mat\"\",\n",
      "\"hlsong/Drones_flock_DYN/rsl1gebt\",\n",
      "\"hlsong/Drones_flock_DYN/kfnyspet\",\n",
      "\"hlsong/Drones_flock_DYN/vp8c8n6l\",\n",
      "\"hlsong/Drones_flock_DYN/q3gm5qx9\",\n",
      "\"hlsong/Drones_flock_DYN/dycm1fi0\",\n",
      "\"hlsong/Drones_flock_DYN/8g51bhf4\",\n",
      "\"hlsong/Drones_flock_DYN/\"mat_jpr\"\",\n",
      "\"hlsong/Drones_flock_DYN/vwj2h4wp\",\n",
      "\"hlsong/Drones_flock_DYN/snydtcsk\",\n",
      "\"hlsong/Drones_flock_DYN/wb2ik8m2\",\n",
      "\"hlsong/Drones_flock_DYN/mcuh265e\",\n",
      "\"hlsong/Drones_flock_DYN/btv7tjq1\",\n",
      "\"hlsong/Drones_flock_DYN/f77jta53\",\n",
      "\"hlsong/Drones_flock_DYN/vb3hdss7\",\n",
      "\"hlsong/Drones_flock_DYN/233akkdl\",\n",
      "\"hlsong/Drones_flock_DYN/z8z9yj0q\",\n",
      "\"hlsong/Drones_flock_DYN/ln836qy6\",\n",
      "\"hlsong/Drones_flock_DYN/2cr0b8dm\",\n",
      "\"hlsong/Drones_flock_DYN/\"mat_mask\"\",\n",
      "\"hlsong/Drones_flock_DYN/dj2fqd3f\",\n",
      "\"hlsong/Drones_flock_DYN/jtcmm64q\",\n",
      "\"hlsong/Drones_flock_DYN/b6yehsr9\",\n",
      "\"hlsong/Drones_flock_DYN/sg7t9bt8\",\n",
      "\"hlsong/Drones_flock_DYN/4s8ljars\",\n",
      "\"hlsong/Drones_flock_DYN/0repqzlg\",\n",
      "\"hlsong/Drones_flock_DYN/iu92iv7u\",\n",
      "\"hlsong/Drones_flock_DYN/o3fdkwdv\",\n",
      "\"hlsong/Drones_flock_DYN/\"mappo_jpr\"\",\n",
      "\"hlsong/Drones_flock_DYN/ludzqhk7\",\n",
      "\"hlsong/Drones_flock_DYN/l30ha30x\",\n",
      "\"hlsong/Drones_flock_DYN/bij47g6g\",\n",
      "\"hlsong/Drones_flock_DYN/zg4itx1l\",\n",
      "\"hlsong/Drones_flock_DYN/6jnm0zf5\",\n",
      "\"hlsong/Drones_flock_DYN/hou77i0x\",\n",
      "\"hlsong/Drones_flock_DYN/aldlcgu9\",\n",
      "\"hlsong/Drones_flock_DYN/\"mappo\"\",\n",
      "\"hlsong/Drones_flock_DYN/rvuicmm3\",\n",
      "\"hlsong/Drones_flock_DYN/7ib45qwj\",\n",
      "\"hlsong/Drones_flock_DYN/dm641zac\",\n",
      "\"hlsong/Drones_flock_DYN/letvow0b\",\n",
      "\"hlsong/Drones_flock_DYN/wfbg86c0\",\n",
      "\"hlsong/Drones_flock_DYN/u58w6f68\",\n",
      "\"hlsong/Drones_flock_DYN/jcjls196\",\n",
      "\"hlsong/Drones_flock_DYN/vsmcj64p\",\n",
      "\"hlsong/Drones_flock_DYN/\"mappo_maska\"\",\n",
      "\"hlsong/Drones_flock_DYN/k394xxiy\",\n",
      "\"hlsong/Drones_flock_DYN/qjzd3had\",\n",
      "\"hlsong/Drones_flock_DYN/2ffz446b\",\n",
      "\"hlsong/Drones_flock_DYN/jt090dzm\",\n",
      "\"hlsong/Drones_flock_DYN/pwqhtnvg\",\n",
      "\"hlsong/Drones_flock_DYN/tece99lj\",\n",
      "\"hlsong/Drones_flock_DYN/9vnujfrm\",\n",
      "\"hlsong/Drones_flock_DYN/54cttlab\",\n"
     ]
    }
   ],
   "source": [
    "project_name = \"hlsong/Drones_flock_DYN/\"\n",
    "with open(\"runlist.txt\", \"r\") as f:\n",
    "    runlist = f.read().splitlines()\n",
    "    for run in runlist:\n",
    "        print(f\"\\\"{project_name}{run}\\\",\")\n"
   ]
  },
  {
   "cell_type": "markdown",
   "metadata": {},
   "source": [
    "### export list"
   ]
  },
  {
   "cell_type": "code",
   "execution_count": 16,
   "metadata": {},
   "outputs": [],
   "source": [
    "from collections import defaultdict\n",
    "from pathlib import Path\n",
    "env_name = \"SMAC\"\n",
    "map_name = \"mmm\"\n",
    "update = False\n",
    "project_name = f\"hlsong/{env_name}_{map_name}/\"\n",
    "save_path = Path(f\"./runlist/{env_name}_{map_name}.txt\")\n",
    "\n",
    "runlist_path = Path(f\"./runlist/{env_name}_{map_name}_raw.txt\")\n",
    "if not runlist_path.exists() or update:\n",
    "    # 更新数据 或者 不存在元数据\n",
    "    with open(\"runlist.txt\", \"r\") as fr:\n",
    "        runlist = fr.read().splitlines()\n",
    "    runlist_path.parent.mkdir(parents=True, exist_ok=True)\n",
    "    # 把读到的数据写入到runlist_raw.txt\n",
    "    with open(f\"{str(runlist_path)}\", \"w\") as fw:\n",
    "        for line in runlist:\n",
    "                print(line, file=fw)\n",
    "else:\n",
    "    with open(f\"{str(runlist_path)}\", \"r\") as fr:\n",
    "        runlist = fr.read().splitlines()\n",
    "\n",
    "order_key = ['mat_mask', 'mat_jpr', 'mat', 'mappo_maska', 'mappo_jpr', 'mappo']\n",
    "algo_name = {'mat_mask': \"MAT_mar\", 'mat_jpr': \"MAT_jpr\", 'mat': \"MAT\", 'mappo_maska': \"MAPPO_mar\", 'mappo_jpr': \"MAPPO_jpr\", 'mappo': \"MAPPO\"}\n",
    "dic = defaultdict(list)\n",
    "save_path = Path(f\"./runlist/{env_name}_{map_name}.txt\")\n",
    "save_path.parent.mkdir(parents=True, exist_ok=True)\n",
    "with open(f\"{str(save_path)}\", \"w\") as fw:\n",
    "    print(f\"\\t\\t\\\"{map_name}\\\": {{\", file=fw)\n",
    "    for run in runlist:\n",
    "        if \"\\\"\" in run:\n",
    "            algo = run.split(\"\\\"\")[1]\n",
    "            continue\n",
    "        dic[algo].append(run)\n",
    "    for key in order_key:\n",
    "        print(f\"\\t\\t\\t\\\"{algo_name[key]}\\\": [\", file=fw)\n",
    "        for run in dic[key]:\n",
    "            print(f\"\\t\\t\\t\\t\\\"{project_name}{run}\\\",\", file=fw)\n",
    "        print(f\"\\t\\t\\t],\", file=fw)\n",
    "    print(\"\\t\\t},\", file=fw)\n"
   ]
  },
  {
   "cell_type": "code",
   "execution_count": null,
   "metadata": {},
   "outputs": [],
   "source": [
    "from collections import defaultdict\n",
    "from pathlib import Path\n",
    "env_name = \"SMAC\"\n",
    "map_name = \"mmm\"\n",
    "update = False\n",
    "project_name = f\"hlsong/{env_name}_{map_name}/\"\n",
    "save_path = Path(f\"./runlist/{env_name}_{map_name}.txt\")\n",
    "\n",
    "runlist_path = Path(f\"./runlist/{env_name}_{map_name}_raw.txt\")\n",
    "project = f\"hlsong/{env_name}_{map_name}\"\n",
    "runs = api.runs(project)\n",
    "dicc = defaultdict(list)\n",
    "for run in runs:\n",
    "    algo = run[\"algorithm_name\"]\n",
    "    dicc[algo] = run\n",
    "if not runlist_path.exists() or update:\n",
    "    # 更新数据 或者 不存在元数据\n",
    "    with open(\"runlist.txt\", \"r\") as fr:\n",
    "        runlist = fr.read().splitlines()\n",
    "    runlist_path.parent.mkdir(parents=True, exist_ok=True)\n",
    "    # 把读到的数据写入到runlist_raw.txt\n",
    "    with open(f\"{str(runlist_path)}\", \"w\") as fw:\n",
    "        for line in runlist:\n",
    "            print(line, file=fw)\n",
    "else:\n",
    "    with open(f\"{str(runlist_path)}\", \"r\") as fr:\n",
    "        runlist = fr.read().splitlines()\n",
    "\n",
    "order_key = ['mat_mask', 'mat_jpr', 'mat', 'mappo_maska', 'mappo_jpr', 'mappo']\n",
    "algo_name = {'mat_mask': \"MAT_mar\", 'mat_jpr': \"MAT_jpr\", 'mat': \"MAT\", 'mappo_maska': \"MAPPO_mar\", 'mappo_jpr': \"MAPPO_jpr\", 'mappo': \"MAPPO\"}\n",
    "dic = defaultdict(list)\n",
    "save_path = Path(f\"./runlist/{env_name}_{map_name}.txt\")\n",
    "save_path.parent.mkdir(parents=True, exist_ok=True)\n",
    "with open(f\"{str(save_path)}\", \"w\") as fw:\n",
    "    print(f\"\\t\\t\\\"{map_name}\\\": {{\", file=fw)\n",
    "    for run in runlist:\n",
    "        if \"\\\"\" in run:\n",
    "            algo = run.split(\"\\\"\")[1]\n",
    "            continue\n",
    "        dic[algo].append(run)\n",
    "    for key in order_key:\n",
    "        print(f\"\\t\\t\\t\\\"{algo_name[key]}\\\": [\", file=fw)\n",
    "        for run in dic[key]:\n",
    "            print(f\"\\t\\t\\t\\t\\\"{project_name}{run}\\\",\", file=fw)\n",
    "        print(f\"\\t\\t\\t],\", file=fw)\n",
    "    print(\"\\t\\t},\", file=fw)\n"
   ]
  },
  {
   "cell_type": "markdown",
   "metadata": {},
   "source": [
    "### export run name"
   ]
  },
  {
   "cell_type": "code",
   "execution_count": null,
   "metadata": {},
   "outputs": [],
   "source": [
    "project = \"hlsong/mujoco_ant_8x1\"\n",
    "# runs = api.runs(project , {\"$and\": [{\"config.algorithm_name\": 'mat'},]})\n",
    "# runs = api.runs(project, {\"$and\": [{\"config.algorithm_name\": 'mat'}, ]}, order=\"-created_at\")\n",
    "runs = api.runs(project, order=\"-created_at\")\n",
    "runsss = [i for i in runs]\n",
    "run_list = []\n",
    "config_list = []\n",
    "name_list = []\n",
    "state_list = []\n",
    "for run in runs:\n",
    "    config = {k: v for k, v in run.config.items() if not k.startswith('_')}\n",
    "    config_list.append(config)\n",
    "    run_list.append('/'.join(run.path))\n",
    "    name_list.append(run.name)\n",
    "    state_list.append(run.state)\n",
    "\n",
    "config_df = pd.DataFrame.from_records(config_list)\n",
    "name_df = pd.DataFrame({'name': name_list})\n",
    "run_df = pd.DataFrame({'run': run_list})\n",
    "state_df = pd.DataFrame({'state': state_list})\n",
    "all_df = pd.concat([name_df, run_df, state_df, config_df, ], axis=1)\n",
    "project_config = Path.cwd() / 'data' / f\"{project.split('/')[-1]}_configs_{datetime.datetime.now():%m%d-%H%M}.csv\"\n",
    "project_config.parent.mkdir(parents=True, exist_ok=True)\n",
    "all_df.to_csv(project_config)"
   ]
  },
  {
   "cell_type": "markdown",
   "metadata": {},
   "source": [
    "### run_name_list"
   ]
  },
  {
   "cell_type": "markdown",
   "metadata": {},
   "source": [
    "### funtion"
   ]
  },
  {
   "cell_type": "code",
   "execution_count": 3,
   "metadata": {},
   "outputs": [],
   "source": [
    "from visualize import *\n",
    "from add_enlist import envlist as ENVLISTa\n"
   ]
  },
  {
   "cell_type": "markdown",
   "metadata": {},
   "source": [
    "### define"
   ]
  },
  {
   "cell_type": "code",
   "execution_count": 4,
   "metadata": {},
   "outputs": [],
   "source": [
    "store = True\n",
    "save_path = './datatest'\n",
    "step_lenth = None\n",
    "smooth = 3\n",
    "smooth_method = 2\n",
    "from_wandb = True\n",
    "save_plot = True\n",
    "plot_path = './plot_resulttest'"
   ]
  },
  {
   "cell_type": "markdown",
   "metadata": {},
   "source": [
    "### plot one MAP in one ENV to one IMAGE"
   ]
  },
  {
   "cell_type": "code",
   "execution_count": 5,
   "metadata": {},
   "outputs": [
    {
     "name": "stdout",
     "output_type": "stream",
     "text": [
      "['3s_vs_5z']\n"
     ]
    }
   ],
   "source": [
    "env_list = ENVLISTa()\n",
    "env_name = \"StarCraft2\"\n",
    "env = env_list[env_name]\n",
    "scenarios = [key for key in env.keys()]\n"
   ]
  },
  {
   "cell_type": "code",
   "execution_count": 9,
   "metadata": {},
   "outputs": [
    {
     "name": "stdout",
     "output_type": "stream",
     "text": [
      "env: smac\n"
     ]
    },
    {
     "ename": "TypeError",
     "evalue": "unsupported operand type(s) for /: 'PosixPath' and 'dict'",
     "output_type": "error",
     "traceback": [
      "\u001b[0;31m---------------------------------------------------------------------------\u001b[0m",
      "\u001b[0;31mTypeError\u001b[0m                                 Traceback (most recent call last)",
      "Cell \u001b[0;32mIn[9], line 4\u001b[0m\n\u001b[1;32m      2\u001b[0m \u001b[39mprint\u001b[39m(\u001b[39mf\u001b[39m\u001b[39m\"\u001b[39m\u001b[39menv: \u001b[39m\u001b[39m{\u001b[39;00menv_name\u001b[39m}\u001b[39;00m\u001b[39m\"\u001b[39m)\n\u001b[1;32m      3\u001b[0m \u001b[39mif\u001b[39;00m from_wandb:\n\u001b[0;32m----> 4\u001b[0m     df, indicator \u001b[39m=\u001b[39m get_df_from_wandb(env, scenario, store, save_path, smooth, smooth_method, step_lenth)\n\u001b[1;32m      5\u001b[0m \u001b[39melse\u001b[39;00m:\n\u001b[1;32m      6\u001b[0m     df, indicator \u001b[39m=\u001b[39m get_df_from_local(env_name, scenario, save_path, smooth, smooth_method, step_lenth)\n",
      "File \u001b[0;32m/home/data/CODE/PlotData/visualize.py:42\u001b[0m, in \u001b[0;36mget_df_from_wandb\u001b[0;34m(env, scenario, store, save_path, smooth, smooth_method, step_lenth)\u001b[0m\n\u001b[1;32m     40\u001b[0m \u001b[39m# print(f\" - scenario:{scenario}\")\u001b[39;00m\n\u001b[1;32m     41\u001b[0m file_log_name \u001b[39m=\u001b[39m \u001b[39m'\u001b[39m\u001b[39mfile_list.txt\u001b[39m\u001b[39m'\u001b[39m\n\u001b[0;32m---> 42\u001b[0m file_log_path \u001b[39m=\u001b[39m save_path \u001b[39m=\u001b[39m Path(save_path) \u001b[39m/\u001b[39m env \u001b[39m/\u001b[39m scenario \u001b[39m/\u001b[39m file_log_name \u001b[39mif\u001b[39;00m Path(save_path)\u001b[39m.\u001b[39mis_absolute() \u001b[39melse\u001b[39;00m Path\u001b[39m.\u001b[39;49mcwd() \u001b[39m/\u001b[39;49m save_path \u001b[39m/\u001b[39;49m env \u001b[39m/\u001b[39m scenario \u001b[39m/\u001b[39m file_log_name\n\u001b[1;32m     43\u001b[0m \u001b[39mif\u001b[39;00m file_log_path\u001b[39m.\u001b[39mexists():\n\u001b[1;32m     44\u001b[0m     \u001b[39mwith\u001b[39;00m \u001b[39mopen\u001b[39m(file_log_path, \u001b[39m'\u001b[39m\u001b[39mr\u001b[39m\u001b[39m'\u001b[39m) \u001b[39mas\u001b[39;00m f:\n",
      "\u001b[0;31mTypeError\u001b[0m: unsupported operand type(s) for /: 'PosixPath' and 'dict'"
     ]
    }
   ],
   "source": [
    "scenario = scenarios[0]\n",
    "print(f\"env: {env_name}\")\n",
    "if from_wandb:\n",
    "    df, indicator = get_df_from_wandb(env, scenario, store, save_path, smooth, smooth_method, step_lenth)\n",
    "else:\n",
    "    df, indicator = get_df_from_local(env_name, scenario, save_path, smooth, smooth_method, step_lenth)\n",
    "plot_one_scenario(df, indicator, env_name, scenario, save_plot, plot_path)\n"
   ]
  },
  {
   "cell_type": "markdown",
   "metadata": {},
   "source": [
    "### plot Multi MAPs in one ENV to Multi IMAGEs"
   ]
  },
  {
   "cell_type": "code",
   "execution_count": 14,
   "metadata": {},
   "outputs": [
    {
     "ename": "KeyError",
     "evalue": "'drone'",
     "output_type": "error",
     "traceback": [
      "\u001b[0;31m---------------------------------------------------------------------------\u001b[0m",
      "\u001b[0;31mKeyError\u001b[0m                                  Traceback (most recent call last)",
      "Cell \u001b[0;32mIn [14], line 2\u001b[0m\n\u001b[1;32m      1\u001b[0m env_name \u001b[39m=\u001b[39m \u001b[39m\"\u001b[39m\u001b[39mdrone\u001b[39m\u001b[39m\"\u001b[39m\n\u001b[0;32m----> 2\u001b[0m env \u001b[39m=\u001b[39m env_list[env_name]\n\u001b[1;32m      3\u001b[0m scenarios \u001b[39m=\u001b[39m [key \u001b[39mfor\u001b[39;00m key \u001b[39min\u001b[39;00m env\u001b[39m.\u001b[39mkeys()]\n\u001b[1;32m      5\u001b[0m \u001b[39mfor\u001b[39;00m scenario \u001b[39min\u001b[39;00m scenarios:\n",
      "\u001b[0;31mKeyError\u001b[0m: 'drone'"
     ]
    }
   ],
   "source": [
    "env_name = \"drone\"\n",
    "env = env_list[env_name]\n",
    "scenarios = [key for key in env.keys()]\n",
    "\n",
    "for scenario in scenarios:\n",
    "    print(f\"env: {env_name}\")\n",
    "    if from_wandb:\n",
    "        df, indicator = get_df_from_wandb(env, scenario, store, save_path ,smooth, smooth_method, step_lenth)\n",
    "    else:\n",
    "        df, indicator = get_df_from_local(env_name, scenario, save_path, smooth, smooth_method, step_lenth)\n",
    "    plot_one_scenario(df, indicator, env_name, scenario, save_plot, plot_path)"
   ]
  },
  {
   "cell_type": "markdown",
   "metadata": {},
   "source": [
    "### plot Multi MAPs in one ENV to one IMAGEs"
   ]
  },
  {
   "cell_type": "code",
   "execution_count": null,
   "metadata": {},
   "outputs": [],
   "source": [
    "env_name = \"drone\"\n",
    "env = env_list[env_name]\n",
    "scenarios = [key for key in env.keys()]\n",
    "dfargs = {\n",
    "    \"env_name\": env_name,\n",
    "    \"env\": env,\n",
    "    \"scenarios\": scenarios,\n",
    "    \"store\": store,\n",
    "    \"save_path\": save_path,\n",
    "    \"step_lenth\": step_lenth,\n",
    "    \"smooth\": smooth,\n",
    "    \"smooth_method\": smooth_method,\n",
    "    \"from_wandb\": from_wandb,\n",
    "}\n",
    "print(f\"env: {env_name}\")\n",
    "nsize = (1, 3)\n",
    "plot_multi_scenario(env_name, scenarios, nsize, save_plot, plot_path, dfargs)\n"
   ]
  }
 ],
 "metadata": {
  "kernelspec": {
   "display_name": "daily",
   "language": "python",
   "name": "python3"
  },
  "language_info": {
   "codemirror_mode": {
    "name": "ipython",
    "version": 3
   },
   "file_extension": ".py",
   "mimetype": "text/x-python",
   "name": "python",
   "nbconvert_exporter": "python",
   "pygments_lexer": "ipython3",
   "version": "3.9.15"
  },
  "orig_nbformat": 4,
  "vscode": {
   "interpreter": {
    "hash": "566e6cdf7f54d1d9f64fff98cde3bb9e7f474f0f6b1a47b2ef04d4c5e615734e"
   }
  }
 },
 "nbformat": 4,
 "nbformat_minor": 2
}
