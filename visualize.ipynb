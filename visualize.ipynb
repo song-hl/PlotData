{
 "cells": [
  {
   "cell_type": "code",
   "execution_count": 1,
   "metadata": {},
   "outputs": [],
   "source": [
    "import pandas as pd\n",
    "import wandb\n",
    "from pathlib import Path\n",
    "import numpy as np\n",
    "import seaborn as sns\n",
    "import matplotlib.pyplot as plt\n",
    "import matplotlib as mpl\n",
    "import datetime\n",
    "\n",
    "from matplotlib.pyplot import MultipleLocator\n",
    "api = wandb.Api(timeout=19)\n",
    "mpl.rcParams[\"axes.unicode_minus\"] = False"
   ]
  },
  {
   "cell_type": "markdown",
   "metadata": {},
   "source": [
    "### export list"
   ]
  },
  {
   "cell_type": "code",
   "execution_count": null,
   "metadata": {},
   "outputs": [],
   "source": [
    "project_name = \"hlsong/mujoco_ant_8x1/\"\n",
    "with open(\"runlist.txt\", \"r\") as f:\n",
    "    runlist = f.read().splitlines()\n",
    "    for run in runlist:\n",
    "        print(f\"\\\"{project_name}{run}\\\",\")\n"
   ]
  },
  {
   "cell_type": "markdown",
   "metadata": {},
   "source": [
    "### export run name"
   ]
  },
  {
   "cell_type": "code",
   "execution_count": null,
   "metadata": {},
   "outputs": [],
   "source": [
    "project = \"hlsong/mujoco_ant_8x1\"\n",
    "# runs = api.runs(project , {\"$and\": [{\"config.algorithm_name\": 'mat'},]})\n",
    "# runs = api.runs(project, {\"$and\": [{\"config.algorithm_name\": 'mat'}, ]}, order=\"-created_at\")\n",
    "runs = api.runs(project, order=\"-created_at\")\n",
    "runsss = [i for i in runs]\n",
    "run_list = []\n",
    "config_list = []\n",
    "name_list = []\n",
    "state_list = []\n",
    "for run in runs:\n",
    "    config = {k: v for k, v in run.config.items() if not k.startswith('_')}\n",
    "    config_list.append(config)\n",
    "    run_list.append('/'.join(run.path))\n",
    "    name_list.append(run.name)\n",
    "    state_list.append(run.state)\n",
    "\n",
    "config_df = pd.DataFrame.from_records(config_list)\n",
    "name_df = pd.DataFrame({'name': name_list})\n",
    "run_df = pd.DataFrame({'run': run_list})\n",
    "state_df = pd.DataFrame({'state': state_list})\n",
    "all_df = pd.concat([name_df, run_df, state_df, config_df, ], axis=1)\n",
    "project_config = Path.cwd() / 'data' / f\"{project.split('/')[-1]}_configs_{datetime.datetime.now():%m%d-%H%M}.csv\"\n",
    "project_config.parent.mkdir(parents=True, exist_ok=True)\n",
    "all_df.to_csv(project_config)"
   ]
  },
  {
   "cell_type": "markdown",
   "metadata": {},
   "source": [
    "### run_name_list"
   ]
  },
  {
   "cell_type": "markdown",
   "metadata": {},
   "source": [
    "### funtion"
   ]
  },
  {
   "cell_type": "code",
   "execution_count": 28,
   "metadata": {},
   "outputs": [],
   "source": [
    "from visualize import *\n",
    "from add_enlist import envlist as ENVLISTa\n"
   ]
  },
  {
   "cell_type": "markdown",
   "metadata": {},
   "source": [
    "### define"
   ]
  },
  {
   "cell_type": "code",
   "execution_count": 29,
   "metadata": {},
   "outputs": [],
   "source": [
    "store = True\n",
    "save_path = './data'\n",
    "step_lenth = None\n",
    "smooth = 3\n",
    "smooth_method = 2\n",
    "from_wandb = True\n",
    "save_plot = True\n",
    "plot_path = './plot_result'"
   ]
  },
  {
   "cell_type": "markdown",
   "metadata": {},
   "source": [
    "### plot one MAP in one ENV to one IMAGE"
   ]
  },
  {
   "cell_type": "code",
   "execution_count": 30,
   "metadata": {},
   "outputs": [
    {
     "name": "stdout",
     "output_type": "stream",
     "text": [
      "['Ant 8x1 obsk=1', 'Ant 8x1 obsk=0', 'LeaderFollower-4xagent', 'Meetup-4xagent']\n"
     ]
    }
   ],
   "source": [
    "env_list = ENVLISTa()\n",
    "env_name = 'mujoco'\n",
    "env = env_list[env_name]\n",
    "scenarios = [key for key in env.keys()]\n",
    "print(scenarios)"
   ]
  },
  {
   "cell_type": "code",
   "execution_count": 32,
   "metadata": {},
   "outputs": [
    {
     "name": "stdout",
     "output_type": "stream",
     "text": [
      "env: mujoco\n"
     ]
    },
    {
     "ename": "KeyError",
     "evalue": "'Ant 8x1 obsk=0-8x1-8x1-8x1-8x1-8x1'",
     "output_type": "error",
     "traceback": [
      "\u001b[0;31m---------------------------------------------------------------------------\u001b[0m",
      "\u001b[0;31mKeyError\u001b[0m                                  Traceback (most recent call last)",
      "Cell \u001b[0;32mIn [32], line 4\u001b[0m\n\u001b[1;32m      2\u001b[0m \u001b[39mprint\u001b[39m(\u001b[39mf\u001b[39m\u001b[39m\"\u001b[39m\u001b[39menv: \u001b[39m\u001b[39m{\u001b[39;00menv_name\u001b[39m}\u001b[39;00m\u001b[39m\"\u001b[39m)\n\u001b[1;32m      3\u001b[0m \u001b[39mif\u001b[39;00m from_wandb:\n\u001b[0;32m----> 4\u001b[0m     df, indicator \u001b[39m=\u001b[39m get_df_from_wandb(env, scenario, store, save_path, smooth, smooth_method, step_lenth)\n\u001b[1;32m      5\u001b[0m \u001b[39melse\u001b[39;00m:\n\u001b[1;32m      6\u001b[0m     df, indicator \u001b[39m=\u001b[39m get_df_from_local(env_name, scenario, save_path, smooth, smooth_method, step_lenth)\n",
      "File \u001b[0;32m/home/CODE/PlotData/visualize.py:44\u001b[0m, in \u001b[0;36mget_df_from_wandb\u001b[0;34m(env, scenario, store, save_path, smooth, smooth_method, step_lenth)\u001b[0m\n\u001b[1;32m     41\u001b[0m \u001b[39mfor\u001b[39;00m algo \u001b[39min\u001b[39;00m env[scenario]\u001b[39m.\u001b[39mkeys():\n\u001b[1;32m     42\u001b[0m     \u001b[39m# print(f\"  -- algo:{algo}\")\u001b[39;00m\n\u001b[1;32m     43\u001b[0m     curve_list \u001b[39m=\u001b[39m []\n\u001b[0;32m---> 44\u001b[0m     \u001b[39mfor\u001b[39;00m run_name \u001b[39min\u001b[39;00m env[scenario][algo]:\n\u001b[1;32m     45\u001b[0m         run \u001b[39m=\u001b[39m api\u001b[39m.\u001b[39mrun(run_name)\n\u001b[1;32m     46\u001b[0m         config \u001b[39m=\u001b[39m {k: v \u001b[39mfor\u001b[39;00m k, v \u001b[39min\u001b[39;00m run\u001b[39m.\u001b[39mconfig\u001b[39m.\u001b[39mitems() \u001b[39mif\u001b[39;00m \u001b[39mnot\u001b[39;00m k\u001b[39m.\u001b[39mstartswith(\u001b[39m\"\u001b[39m\u001b[39m_\u001b[39m\u001b[39m\"\u001b[39m)}\n",
      "\u001b[0;31mKeyError\u001b[0m: 'Ant 8x1 obsk=0-8x1-8x1-8x1-8x1-8x1'"
     ]
    }
   ],
   "source": [
    "scenario = scenarios[1]\n",
    "print(f\"env: {env_name}\")\n",
    "if from_wandb:\n",
    "    df, indicator = get_df_from_wandb(env, scenario, store, save_path, smooth, smooth_method, step_lenth)\n",
    "else:\n",
    "    df, indicator = get_df_from_local(env_name, scenario, save_path, smooth, smooth_method, step_lenth)\n",
    "plot_one_scenario(df, indicator, env_name, scenario, save_plot, plot_path)\n"
   ]
  },
  {
   "cell_type": "markdown",
   "metadata": {},
   "source": [
    "### plot Multi MAPs in one ENV to Multi IMAGEs"
   ]
  },
  {
   "cell_type": "code",
   "execution_count": 14,
   "metadata": {},
   "outputs": [
    {
     "ename": "KeyError",
     "evalue": "'drone'",
     "output_type": "error",
     "traceback": [
      "\u001b[0;31m---------------------------------------------------------------------------\u001b[0m",
      "\u001b[0;31mKeyError\u001b[0m                                  Traceback (most recent call last)",
      "Cell \u001b[0;32mIn [14], line 2\u001b[0m\n\u001b[1;32m      1\u001b[0m env_name \u001b[39m=\u001b[39m \u001b[39m\"\u001b[39m\u001b[39mdrone\u001b[39m\u001b[39m\"\u001b[39m\n\u001b[0;32m----> 2\u001b[0m env \u001b[39m=\u001b[39m env_list[env_name]\n\u001b[1;32m      3\u001b[0m scenarios \u001b[39m=\u001b[39m [key \u001b[39mfor\u001b[39;00m key \u001b[39min\u001b[39;00m env\u001b[39m.\u001b[39mkeys()]\n\u001b[1;32m      5\u001b[0m \u001b[39mfor\u001b[39;00m scenario \u001b[39min\u001b[39;00m scenarios:\n",
      "\u001b[0;31mKeyError\u001b[0m: 'drone'"
     ]
    }
   ],
   "source": [
    "env_name = \"drone\"\n",
    "env = env_list[env_name]\n",
    "scenarios = [key for key in env.keys()]\n",
    "\n",
    "for scenario in scenarios:\n",
    "    print(f\"env: {env_name}\")\n",
    "    if from_wandb:\n",
    "        df, indicator = get_df_from_wandb(env, scenario, store, save_path ,smooth, smooth_method, step_lenth)\n",
    "    else:\n",
    "        df, indicator = get_df_from_local(env_name, scenario, save_path, smooth, smooth_method, step_lenth)\n",
    "    plot_one_scenario(df, indicator, env_name, scenario, save_plot, plot_path)"
   ]
  },
  {
   "cell_type": "markdown",
   "metadata": {},
   "source": [
    "### plot Multi MAPs in one ENV to one IMAGEs"
   ]
  },
  {
   "cell_type": "code",
   "execution_count": null,
   "metadata": {},
   "outputs": [],
   "source": [
    "env_name = \"drone\"\n",
    "env = env_list[env_name]\n",
    "scenarios = [key for key in env.keys()]\n",
    "dfargs = {\n",
    "    \"env_name\": env_name,\n",
    "    \"env\": env,\n",
    "    \"scenarios\": scenarios,\n",
    "    \"store\": store,\n",
    "    \"save_path\": save_path,\n",
    "    \"step_lenth\": step_lenth,\n",
    "    \"smooth\": smooth,\n",
    "    \"smooth_method\": smooth_method,\n",
    "    \"from_wandb\": from_wandb,\n",
    "}\n",
    "print(f\"env: {env_name}\")\n",
    "nsize = (1, 3)\n",
    "plot_multi_scenario(env_name, scenarios, nsize, save_plot, plot_path, dfargs)\n"
   ]
  }
 ],
 "metadata": {
  "kernelspec": {
   "display_name": "Python 3.8.13 ('base')",
   "language": "python",
   "name": "python3"
  },
  "language_info": {
   "codemirror_mode": {
    "name": "ipython",
    "version": 3
   },
   "file_extension": ".py",
   "mimetype": "text/x-python",
   "name": "python",
   "nbconvert_exporter": "python",
   "pygments_lexer": "ipython3",
   "version": "3.8.15"
  },
  "orig_nbformat": 4,
  "vscode": {
   "interpreter": {
    "hash": "d4d1e4263499bec80672ea0156c357c1ee493ec2b1c70f0acce89fc37c4a6abe"
   }
  }
 },
 "nbformat": 4,
 "nbformat_minor": 2
}
