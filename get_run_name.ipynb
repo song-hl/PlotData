{
 "cells": [
  {
   "cell_type": "code",
   "execution_count": 8,
   "metadata": {},
   "outputs": [],
   "source": [
    "import pandas as pd\n",
    "import wandb\n",
    "api = wandb.Api(timeout=19)\n",
    "from pathlib import Path"
   ]
  },
  {
   "cell_type": "code",
   "execution_count": 16,
   "metadata": {},
   "outputs": [],
   "source": [
    "project = \"hlsong/drone_flock\"\n",
    "# runs = api.runs(project , {\"$and\": [{\"config.algorithm_name\": 'mat'},]})\n",
    "runs = api.runs(project, {\"$and\": [{\"config.algorithm_name\": 'mat'}, ]}, order=\"-created_at\")\n",
    "runsss = [i for i in runs]\n",
    "run_list = []\n",
    "config_list = []\n",
    "name_list = []\n",
    "state_list = []\n",
    "for run in runs:\n",
    "    config = {k: v for k, v in run.config.items() if not k.startswith('_')}\n",
    "    config_list.append(config)\n",
    "    run_list.append('/'.join(run.path))\n",
    "    name_list.append(run.name)\n",
    "    state_list.append(run.state)\n",
    "\n",
    "config_df = pd.DataFrame.from_records(config_list)\n",
    "name_df = pd.DataFrame({'name': name_list})\n",
    "run_df = pd.DataFrame({'run': run_list})\n",
    "state_df = pd.DataFrame({'state': state_list})\n",
    "all_df = pd.concat([name_df, run_df, state_df, config_df, ], axis=1)\n",
    "project_config = Path.cwd() / 'data' / f\"{project.split('/')[-1]}_configs.csv\"\n",
    "project_config.parent.mkdir(parents=True, exist_ok=True)\n",
    "all_df.to_csv(project_config)\n"
   ]
  }
 ],
 "metadata": {
  "kernelspec": {
   "display_name": "Python 3.9.13 ('daily')",
   "language": "python",
   "name": "python3"
  },
  "language_info": {
   "codemirror_mode": {
    "name": "ipython",
    "version": 3
   },
   "file_extension": ".py",
   "mimetype": "text/x-python",
   "name": "python",
   "nbconvert_exporter": "python",
   "pygments_lexer": "ipython3",
   "version": "3.9.13"
  },
  "orig_nbformat": 4,
  "vscode": {
   "interpreter": {
    "hash": "c239a4c74edc8c9c04a208b884608248b97382067029bb8c6c2b28470cea8595"
   }
  }
 },
 "nbformat": 4,
 "nbformat_minor": 2
}
