{
 "cells": [
  {
   "cell_type": "code",
   "execution_count": 2,
   "metadata": {},
   "outputs": [],
   "source": [
    "import pandas as pd\n",
    "import wandb\n",
    "from pathlib import Path\n",
    "import numpy as np\n",
    "import seaborn as sns\n",
    "import matplotlib.pyplot as plt\n",
    "import matplotlib as mpl\n",
    "\n",
    "from matplotlib.pyplot import MultipleLocator\n",
    "api = wandb.Api(timeout=19)"
   ]
  },
  {
   "cell_type": "code",
   "execution_count": 4,
   "metadata": {},
   "outputs": [],
   "source": [
    "project = \"hlsong/mujoco_half\"\n",
    "# runs = api.runs(project , {\"$and\": [{\"config.algorithm_name\": 'mat'},]})\n",
    "runs = api.runs(project, {\"$and\": [{\"config.algorithm_name\": 'mappo_maska_maska'}, ]}, order=\"-created_at\")\n",
    "# runsss = [i for i in runs]\n",
    "# run_list = []\n",
    "# config_list = []\n",
    "# name_list = []\n",
    "# state_list = []\n",
    "for run in runs:\n",
    "    config = {k: v for k, v in run.config.items() if not k.startswith('_')}\n",
    "    if run.config[\"algorithm_name\"] == \"mappo_maska_maska\":\n",
    "        run.config[\"algorithm_name\"] = \"mappo_maska\"\n",
    "        print(run.name)\n",
    "        run.update()\n"
   ]
  }
 ],
 "metadata": {
  "kernelspec": {
   "display_name": "Python 3.8.13 ('base')",
   "language": "python",
   "name": "python3"
  },
  "language_info": {
   "codemirror_mode": {
    "name": "ipython",
    "version": 3
   },
   "file_extension": ".py",
   "mimetype": "text/x-python",
   "name": "python",
   "nbconvert_exporter": "python",
   "pygments_lexer": "ipython3",
   "version": "3.9.15"
  },
  "orig_nbformat": 4,
  "vscode": {
   "interpreter": {
    "hash": "d4d1e4263499bec80672ea0156c357c1ee493ec2b1c70f0acce89fc37c4a6abe"
   }
  }
 },
 "nbformat": 4,
 "nbformat_minor": 2
}
